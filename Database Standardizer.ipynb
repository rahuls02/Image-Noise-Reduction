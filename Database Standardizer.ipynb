{
 "cells": [
  {
   "cell_type": "code",
   "execution_count": 1,
   "id": "noticed-binary",
   "metadata": {},
   "outputs": [],
   "source": [
    "from PIL import Image\n",
    "import numpy as np\n",
    "import os"
   ]
  },
  {
   "cell_type": "code",
   "execution_count": 43,
   "id": "raised-victory",
   "metadata": {},
   "outputs": [],
   "source": [
    "size = (64, 64)\n",
    "directory = os.getcwd()\n",
    "COUNT = [0]\n",
    "NOISE_SCALE = 0.1"
   ]
  },
  {
   "cell_type": "code",
   "execution_count": 32,
   "id": "liked-switch",
   "metadata": {},
   "outputs": [],
   "source": [
    "def get_next():\n",
    "    COUNT[0] += 1\n",
    "    new_count = [COUNT[0]]\n",
    "    #print(COUNT[0]);\n",
    "    return get_next_helper(directory, new_count)"
   ]
  },
  {
   "cell_type": "code",
   "execution_count": 33,
   "id": "synthetic-vulnerability",
   "metadata": {},
   "outputs": [],
   "source": [
    "def get_next_helper(dir, count):\n",
    "    for test in os.scandir(dir):\n",
    "        if(test.is_dir()):\n",
    "            #print(test.path)\n",
    "            if(count[0] >= 0):\n",
    "                sto = get_next_helper(test.path, count)\n",
    "                if(sto is not None):\n",
    "                    return sto\n",
    "        else:\n",
    "            if(test.name.endswith(\".png\")):\n",
    "                count[0] -= 1\n",
    "                if(count[0] == 0):\n",
    "                    return test.path"
   ]
  },
  {
   "cell_type": "code",
   "execution_count": 34,
   "id": "upset-louisville",
   "metadata": {
    "scrolled": false
   },
   "outputs": [],
   "source": [
    "def reset():\n",
    "    COUNT = [0]"
   ]
  },
  {
   "cell_type": "code",
   "execution_count": 35,
   "id": "hungry-wildlife",
   "metadata": {},
   "outputs": [],
   "source": [
    "# credit to https://gist.github.com/glenrobertson/2288152#gistcomment-3461365\n",
    "def get_white_noise_image(w,h):\n",
    "    pil_map = Image.fromarray(np.random.randint(0,255,(w,h,3),dtype=np.dtype('uint8')))\n",
    "    return pil_map"
   ]
  },
  {
   "cell_type": "code",
   "execution_count": 41,
   "id": "congressional-opposition",
   "metadata": {},
   "outputs": [],
   "source": [
    "def get_next_noised_unnoised():\n",
    "    image = Image.open(get_next())\n",
    "    image = image.resize(size)\n",
    "    image.show()\n",
    "    noised = Image.blend(image, get_white_noise_image(64, 64), .1)\n",
    "    noised.show()\n",
    "    return (np.asarray(Image.blend(image, get_white_noise_image(64, 64), NOISE_SCALE)), np.asarray(image))"
   ]
  }
 ],
 "metadata": {
  "kernelspec": {
   "display_name": "Python 3",
   "language": "python",
   "name": "python3"
  },
  "language_info": {
   "codemirror_mode": {
    "name": "ipython",
    "version": 3
   },
   "file_extension": ".py",
   "mimetype": "text/x-python",
   "name": "python",
   "nbconvert_exporter": "python",
   "pygments_lexer": "ipython3",
   "version": "3.6.12"
  }
 },
 "nbformat": 4,
 "nbformat_minor": 5
}
